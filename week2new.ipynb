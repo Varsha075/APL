{
 "cells": [
  {
   "cell_type": "markdown",
   "id": "5b45ec84",
   "metadata": {},
   "source": [
    "# Assignment\n",
    "\n",
    "The following are the problems you need to solve for this assignment.  You need to submit your code (either as standalone Python script or a Python notebook), a PDF document explaining your solution (either generated from the notebook or a separate LaTeX document), and any supporting files you may have (such as circuit netlists you used for testing your code).\n",
    "\n",
    "- Write a function to find the factorial of N (N being an input) and find the time taken to compute it.  This will obviously depend on where you run the code and which approach you use to implement the factorial.  Explain your observations briefly.\n",
    "- Write a linear equation solver that will take in matrices $A$ and $b$ as inputs, and return the vector $x$ that solves the equation $Ax=b$.  Your function should catch errors in the inputs and return suitable error messages for different possible problems.\n",
    "  - Time your solver to solve a random $10\\times 10$ system of equations.  Compare the time taken against the `numpy.linalg.solve` function for the same inputs.\n",
    "- Given a circuit netlist in the form described above, read it in from a file, construct the appropriate matrices, and use the solver you have written above to obtain the voltages and currents in the circuit.  If you find AC circuits hard to handle, first do this for pure DC circuits, but you should be able to handle both voltage and current sources.\n",
    "\n"
   ]
  },
  {
   "cell_type": "markdown",
   "id": "c00b71d8-a164-41c6-9a09-d10b49d0c9b6",
   "metadata": {},
   "source": [
    "## Problem statement 1"
   ]
  },
  {
   "cell_type": "markdown",
   "id": "711bb9b5-0d2e-43e9-a6ed-695ad790b3a2",
   "metadata": {},
   "source": [
    "Write a function to find the factorial of N (N being an input) and find the time taken to compute it. This will obviously depend on where you run the code and which approach you use to implement the factorial. Explain your observations briefly."
   ]
  },
  {
   "cell_type": "code",
   "execution_count": 16,
   "id": "9ddefd2b-cfde-4567-9bcb-229809f3974b",
   "metadata": {},
   "outputs": [
    {
     "name": "stdin",
     "output_type": "stream",
     "text": [
      "Enter a number 4\n"
     ]
    },
    {
     "name": "stdout",
     "output_type": "stream",
     "text": [
      "24\n",
      "142 ns ± 4.84 ns per loop (mean ± std. dev. of 7 runs, 10,000,000 loops each)\n"
     ]
    }
   ],
   "source": [
    "import numpy as np\n",
    "x=int(input(\"Enter a number\"))\n",
    "def fact(x):\n",
    "    return np.math.factorial(x)\n",
    "if type(x)==int and x>0:\n",
    "    print(fact(x))\n",
    "else:\n",
    "    print(\"Enter a positive integer\")\n",
    "    \n",
    "'''print(fact(x))'''\n",
    "%timeit fact(x)"
   ]
  },
  {
   "cell_type": "code",
   "execution_count": 17,
   "id": "f53815ce-18f3-4448-a534-cbedd269800f",
   "metadata": {},
   "outputs": [
    {
     "name": "stdin",
     "output_type": "stream",
     "text": [
      "Enter a number 4\n"
     ]
    },
    {
     "name": "stdout",
     "output_type": "stream",
     "text": [
      "24\n",
      "337 ns ± 12 ns per loop (mean ± std. dev. of 7 runs, 1,000,000 loops each)\n"
     ]
    }
   ],
   "source": [
    "import numpy as np\n",
    "x=float(input(\"Enter a number\"))\n",
    "\n",
    "def fact(x):\n",
    "    a=1\n",
    "    for i in range(1,int (x)+1):\n",
    "        a=a*(i)\n",
    "        \n",
    "    return a\n",
    "\n",
    "if x.is_integer()==True and x>0:\n",
    "    print(fact(x))\n",
    "else:\n",
    "    print(\"Enter a positive integer\")\n",
    "%timeit fact(x)"
   ]
  },
  {
   "cell_type": "markdown",
   "id": "c4c91e75-13e1-496f-bb24-e207424a173f",
   "metadata": {},
   "source": [
    "### Explanation\n",
    "The function written for factorial using recursion takes more time and lesser loops compared to numpy function math.factorial()."
   ]
  },
  {
   "cell_type": "markdown",
   "id": "a17dbb2f-10d4-44eb-b6ea-72b3ecaeb38c",
   "metadata": {},
   "source": [
    "### Explanation\n",
    "We know that if determinant of a square matrix is zero, it has no solution or has infinite solutions. Hence, we are first checking for the det of the entered matrix. Then for non-zero elements lambada is taken and then subtracted from every row. After getting zeroes in lower traingle, we do back substitution."
   ]
  },
  {
   "cell_type": "markdown",
   "id": "4c650157-9183-401c-8733-b6d4b4f613d2",
   "metadata": {},
   "source": [
    "### Timing the defined function vs in.built fuction\n",
    "Time your solver to solve a random  10×10 system of equations. Compare the time taken against the numpy.linalg.solve function for the same inputs."
   ]
  },
  {
   "cell_type": "code",
   "execution_count": 21,
   "id": "77c15eb3-ace7-49aa-b7e1-c272a3c1d3c1",
   "metadata": {},
   "outputs": [
    {
     "name": "stdout",
     "output_type": "stream",
     "text": [
      "[[ 0.57592865]\n",
      " [-1.1434718 ]\n",
      " [ 1.700912  ]\n",
      " [ 1.56273285]\n",
      " [ 1.1733649 ]\n",
      " [ 1.36712171]\n",
      " [-1.35775437]\n",
      " [ 1.04556496]\n",
      " [-1.97475077]\n",
      " [-2.06722465]]\n",
      "358 µs ± 15.6 µs per loop (mean ± std. dev. of 7 runs, 1,000 loops each)\n"
     ]
    }
   ],
   "source": [
    "A= np.array([[1 ,3 ,1 ,2 ,6 ,6 ,0 ,1 ,3 ,5 ],\n",
    "[7 ,0 ,2 ,0 ,5 ,5 ,6 ,3 ,3 ,3 ],\n",
    "[6 ,0 ,6 ,0 ,0 ,8 ,4 ,5 ,3 ,7 ],\n",
    "[8 ,5 ,4 ,9 ,3 ,5 ,3 ,5 ,8 ,7 ],\n",
    "[7 ,6 ,3 ,8 ,9 ,2 ,3 ,8 ,7 ,8 ],\n",
    "[9 ,5 ,7 ,0 ,7 ,7 ,0 ,1 ,8 ,6 ],\n",
    "[3 ,9 ,7 ,9 ,2 ,1 ,7 ,6 ,7 ,1 ],\n",
    "[8 ,5 ,6 ,4 ,4 ,0 ,3 ,7 ,2 ,5 ],\n",
    "[1 ,2 ,7 ,6 ,1 ,5 ,2 ,0 ,8 ,1 ],\n",
    "[6 ,4 ,4 ,3 ,6 ,2 ,7 ,8 ,5 ,2 ]] ,float)\n",
    "B= np.array( [[2],\n",
    "[3],\n",
    "[4],\n",
    "[1],\n",
    "[2],\n",
    "[2],\n",
    "[2],\n",
    "[9],\n",
    "[7],\n",
    "[5]],float)\n",
    "\n",
    "print(gaussElim(A,B))\n",
    "\n",
    "%timeit gaussElim(A,B)"
   ]
  },
  {
   "cell_type": "code",
   "execution_count": 23,
   "id": "df9181f3-7a18-489e-9f33-8100df66da54",
   "metadata": {},
   "outputs": [
    {
     "name": "stdout",
     "output_type": "stream",
     "text": [
      "[[ 0.57592865]\n",
      " [-1.1434718 ]\n",
      " [ 1.700912  ]\n",
      " [ 1.56273285]\n",
      " [ 1.1733649 ]\n",
      " [ 1.36712171]\n",
      " [-1.35775437]\n",
      " [ 1.04556496]\n",
      " [-1.97475077]\n",
      " [-2.06722465]]\n",
      "19.1 µs ± 754 ns per loop (mean ± std. dev. of 7 runs, 10,000 loops each)\n"
     ]
    }
   ],
   "source": [
    "A= np.array([[1 ,3 ,1 ,2 ,6 ,6 ,0 ,1 ,3 ,5 ],\n",
    "[7 ,0 ,2 ,0 ,5 ,5 ,6 ,3 ,3 ,3 ],\n",
    "[6 ,0 ,6 ,0 ,0 ,8 ,4 ,5 ,3 ,7 ],\n",
    "[8 ,5 ,4 ,9 ,3 ,5 ,3 ,5 ,8 ,7 ],\n",
    "[7 ,6 ,3 ,8 ,9 ,2 ,3 ,8 ,7 ,8 ],\n",
    "[9 ,5 ,7 ,0 ,7 ,7 ,0 ,1 ,8 ,6 ],\n",
    "[3 ,9 ,7 ,9 ,2 ,1 ,7 ,6 ,7 ,1 ],\n",
    "[8 ,5 ,6 ,4 ,4 ,0 ,3 ,7 ,2 ,5 ],\n",
    "[1 ,2 ,7 ,6 ,1 ,5 ,2 ,0 ,8 ,1 ],\n",
    "[6 ,4 ,4 ,3 ,6 ,2 ,7 ,8 ,5 ,2 ]] )\n",
    "B= np.array( [[2],\n",
    "[3],\n",
    "[4],\n",
    "[1],\n",
    "[2],\n",
    "[2],\n",
    "[2],\n",
    "[9],\n",
    "[7],\n",
    "[5]])\n",
    "print(np.linalg.solve(A,B))\n",
    "%timeit np.linalg.solve(A, B)"
   ]
  },
  {
   "cell_type": "markdown",
   "id": "5049769b-fe96-44f3-bc1e-fb7ec0ace434",
   "metadata": {},
   "source": [
    "### Explanation\n",
    "After using %timeit we see that our solver is slower than the in.built numpy fucntiom"
   ]
  },
  {
   "cell_type": "markdown",
   "id": "7eaa2eb5-7e8f-477b-9ff6-868d1cfe45c7",
   "metadata": {},
   "source": [
    "## Gaussian Elimination\n",
    "Write a linear equation solver that will take in matrices  𝐴\n",
    "  and  𝑏\n",
    "  as inputs, and return the vector  𝑥\n",
    "  that solves the equation  𝐴𝑥=𝑏\n",
    " . Your function should catch errors in the inputs and return suitable error messages for different possible problems."
   ]
  },
  {
   "cell_type": "code",
   "execution_count": 32,
   "id": "177c6316-3f27-4cd2-9602-17d42c43e764",
   "metadata": {},
   "outputs": [],
   "source": [
    "def dot(v1, v2):\n",
    "    return sum(x*y for x, y in zip(v1, v2))\n",
    "\n",
    "import numpy as np\n",
    "def gaussElim(a,b):\n",
    "    n = len(b)\n",
    "    \n",
    "    if np.linalg.det(abs(a))!=0:\n",
    "        for k in range(0,n-1):\n",
    "            for i in range(k+1,n):\n",
    "                if a[i,k] != 0.0:\n",
    "                    lamb = a [i,k]/a[k,k]\n",
    "                \n",
    "                    a[i,k+1:n] = a[i,k+1:n] - lamb*a[k,k+1:n]\n",
    "                    b[i] = b[i] - lamb*b[k]\n",
    "        for k in range(n-1,-1,-1):\n",
    "            b[k] = (b[k] - dot(a[k,k+1:n],b[k+1:n]))/a[k,k]\n",
    "        return b\n",
    "    else:\n",
    "        return \"No solution or infinite solution for the given matrix\""
   ]
  },
  {
   "cell_type": "markdown",
   "id": "c4c6b98a-fba1-459d-978d-9cbca7f152a1",
   "metadata": {},
   "source": [
    "## SPICE simulator\n",
    "Given a circuit netlist in the form described above, read it in from a file, construct the appropriate matrices, and use the solver you have written above to obtain the voltages and currents in the circuit. If you find AC circuits hard to handle, first do this for pure DC circuits, but you should be able to handle both voltage and current sources."
   ]
  },
  {
   "cell_type": "code",
   "execution_count": 54,
   "id": "dfdc073f-12cf-43d1-923d-382e8f1b99a1",
   "metadata": {},
   "outputs": [],
   "source": [
    "import numpy as np\n",
    "import sys\n",
    "import cmath\n",
    "def ckt(file):\n",
    "    try:\n",
    "        with open(file,'r') as f:\n",
    "            data=f.read().split(\"\\n\")\n",
    "    except Exception as ex:\n",
    "        print (ex)\n",
    "        return\n",
    "    fre=0\n",
    "    \n",
    "    for l in data:\n",
    "        if l=='':\n",
    "            continue\n",
    "        i=l.split()\n",
    "            \n",
    "        if i[0]=='.circuit':\n",
    "            start=data.index(l)\n",
    "        if i[0]=='.end':\n",
    "            end=data.index(l)\n",
    "        if i[0]=='.ac':\n",
    "            fre=float(i[2])\n",
    "        \n",
    "        #ac\n",
    "    for l in data:\n",
    "        if l=='':#ac dc\n",
    "            continue\n",
    "        i=l.split()\n",
    "        if i[0][0]=='V' and i[3]=='dc' and fre!=0:\n",
    "            print(\"ac and dc found\")\n",
    "            sys.exit()\n",
    "    \n",
    "    return data[start+1:end],fre"
   ]
  },
  {
   "cell_type": "markdown",
   "id": "b1d5edc3-694b-46e1-b4c1-0325d8e43b12",
   "metadata": {},
   "source": [
    "## Explanation\n",
    "We have defined a fuction called ckt(), to read a .netlist and return values. 'freq' returns the value of frequency of the circuit is at all there is an AC source. Start, end is used to determine the number of nodes in a given circuit. We also check if both AC and DC source if detected the same circuit and print an error message. "
   ]
  },
  {
   "cell_type": "code",
   "execution_count": 57,
   "id": "baeeff06-001c-465f-a7ed-5e56d0ddcabd",
   "metadata": {},
   "outputs": [
    {
     "name": "stdout",
     "output_type": "stream",
     "text": [
      "V 1 = (-10+0j) V\n",
      "V 2 = (-5.029239766081871+0j) V\n",
      "V 3 = (-2.5730994152046778+0j) V\n",
      "V 4 = (-1.4035087719298247+0j) V\n",
      "V 5 = (-0.9356725146198832+0j) V\n",
      "I 1 = (-0.004970760233918129-0j) A\n"
     ]
    }
   ],
   "source": [
    "def matrix():\n",
    "    lines, fre=ckt('ckt3.netlist')\n",
    "    nodes=[]\n",
    "    nodes_var={}\n",
    "    count=0\n",
    "    curr=0\n",
    "    \n",
    "    for l in lines:\n",
    "        if l=='':\n",
    "            continue\n",
    "        i=l.split()\n",
    "        for k in range(1,3):\n",
    "            if i[k] not in nodes:\n",
    "                nodes.append(i[k])\n",
    "                nodes_var[i[k]]=count\n",
    "                count+=1\n",
    "    \n",
    "    curr=0\n",
    "    curr_var={}\n",
    "    for l in lines:\n",
    "        if l=='':\n",
    "            continue\n",
    "        i=l.split()\n",
    "        if i[0][0]=='V':\n",
    "            curr_var[i[0]]=(i[1],i[2],curr+count)\n",
    "            curr+=1\n",
    "    \n",
    "    \n",
    "    mb=[0]*(curr+count)\n",
    "    ma=[]\n",
    "    for i in range(curr+count):\n",
    "        ma.append([])\n",
    "        for j in range(curr+count):\n",
    "            ma[i].append(0)\n",
    "\n",
    "    for k in nodes_var.keys():\n",
    "        for l in lines:\n",
    "            if l=='':\n",
    "                continue\n",
    "            i=l.split()\n",
    "            for m in range(1,3):\n",
    "                if i[m]==k:\n",
    "                    if i[0][0]!='V' and i[0][0]!='I':\n",
    "                        if i[0][0]=='R':\n",
    "                            add=float(i[3])\n",
    "                            if m==1:\n",
    "                                ma[nodes_var[k]][nodes_var[i[1]]]+=1/add\n",
    "                                ma[nodes_var[k]][nodes_var[i[2]]]-=1/add\n",
    "                            elif m==2:\n",
    "                                ma[nodes_var[k]][nodes_var[i[2]]]+=1/add\n",
    "                                ma[nodes_var[k]][nodes_var[i[1]]]-=1/add\n",
    "                        if i[0][0]=='C':\n",
    "                            add=(complex(0,-1))*(1/(fre*2*np.pi*float(i[3])))\n",
    "                            if m==1:\n",
    "                                ma[nodes_var[k]][nodes_var[i[1]]]+=1/add\n",
    "                                ma[nodes_var[k]][nodes_var[i[2]]]-=1/add\n",
    "                            elif m==2:\n",
    "                                ma[nodes_var[k]][nodes_var[i[2]]]+=1/add\n",
    "                                ma[nodes_var[k]][nodes_var[i[1]]]-=1/add\n",
    "                        if i[0][0]=='L':\n",
    "                            add = (float(i[3])*fre*2*np.pi*(complex(0,1)))\n",
    "                            if m==1:\n",
    "                                ma[nodes_var[k]][nodes_var[i[1]]]+=1/add\n",
    "                                ma[nodes_var[k]][nodes_var[i[2]]]-=1/add\n",
    "                            elif m==2:\n",
    "                                ma[nodes_var[k]][nodes_var[i[2]]]+=1/add\n",
    "                                ma[nodes_var[k]][nodes_var[i[1]]]-=1/add\n",
    "                    elif i[0][0]=='I':\n",
    "                        if m==1:\n",
    "                            mb[nodes_var[k]]= -float(i[4])\n",
    "                        elif m==2:\n",
    "                            mb[nodes_var[k]]= float(i[4])\n",
    "                    elif i[0][0]=='V':\n",
    "                        if m==1:\n",
    "                            ma[nodes_var[k]][curr_var[i[0]][2]]=1\n",
    "                        if m==2:\n",
    "                            ma[nodes_var[k]][curr_var[i[0]][2]]= -1\n",
    "                if i[0][0]=='V' :\n",
    "                    ma[curr_var[i[0]][2]][nodes_var[i[1]]]=1\n",
    "                    ma[curr_var[i[0]][2]][nodes_var[i[2]]]=-1\n",
    "                    mb[curr_var[i[0]][2]]=float(i[4])  \n",
    "                    \n",
    "    return nodes,nodes_var,curr,curr_var,ma,mb,add,count\n",
    "\n",
    "\n",
    "nodes,nodes_var,curr,curr_var,ma,mb,add,count = matrix()\n",
    "\n",
    "reference = nodes_var['GND']\n",
    "del mb[reference]\n",
    "for i in range(len(ma)):\n",
    "    del ma[i][reference]\n",
    "del ma[reference]\n",
    "#print(ma, mb)\n",
    "\n",
    "a=np.array(ma, dtype = complex)\n",
    "b=np.array(mb, dtype = complex)\n",
    "\n",
    "\n",
    "x = gaussElim(a ,b)\n",
    "\n",
    "for i in range(count-1):\n",
    "    print(\"V\",i+1,\"=\",b[i],\"V\")\n",
    "for i in range(curr):\n",
    "    print(\"I\",i+1,\"=\",b[i+count-1],\"A\")\n",
    "    "
   ]
  },
  {
   "cell_type": "markdown",
   "id": "727d7939-fe14-4160-98db-962996483f14",
   "metadata": {},
   "source": [
    "## Explanation\n",
    "The file read using ckt() function is now called in the function matrix(), and the 2 values it returns are assigned to lines(list of lines in the netlist) and frequency. Now each line in the lines is read through and it's nodes are stored  in 'nodes' and a dictionary is defined 'nodes_var' which stores all the nodes and a key is assigned to each one. Auxillary current is also stored in the curr_var. The sum of curr and count gives the total number of rows or columns in the matrix that needs to be solved."
   ]
  },
  {
   "cell_type": "markdown",
   "id": "d5d43ca9-11db-4d54-9fdc-085c2032188f",
   "metadata": {},
   "source": [
    "Now, we define two matrices ma, mb and each element is defined to be zero initially. For each node, we read through the entire data and append to the appropriate matrix it's resistive, inductive or capacitive values. If voltage source is detected auxillary current is added to the matrix and also verified if it's AC or DC.\n",
    "From the acquired matric column and row of 'GND' is deleted as it's unecessary.\n",
    "The matrix generated is in list type, but our Gaussian solver takes in array, we use np.array. Now the gaussElim() is used to solve the two arguments passed ma,mb(a,b as array). "
   ]
  }
 ],
 "metadata": {
  "authors": [
   {
    "name": "Varsha S P, EE21B154 <ee21b154@smail.iitm.ac.in>"
   }
  ],
  "kernelspec": {
   "display_name": "Python 3 (ipykernel)",
   "language": "python",
   "name": "python3"
  },
  "language_info": {
   "codemirror_mode": {
    "name": "ipython",
    "version": 3
   },
   "file_extension": ".py",
   "mimetype": "text/x-python",
   "name": "python",
   "nbconvert_exporter": "python",
   "pygments_lexer": "ipython3",
   "version": "3.9.2"
  },
  "vscode": {
   "interpreter": {
    "hash": "135c9c029983d30fe2c25215b219c39403965bc9bf9257a46b5d1e1e22d97d61"
   }
  }
 },
 "nbformat": 4,
 "nbformat_minor": 5
}
