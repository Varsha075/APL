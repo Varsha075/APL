{
 "cells": [
  {
   "cell_type": "markdown",
   "id": "bc66b3b5-035d-4397-af1d-5c64e180632f",
   "metadata": {},
   "source": [
    "# Document metadata\n",
    "\n",
    "This can be done by editing Notebook metadata in Property Inspector."
   ]
  },
  {
   "cell_type": "markdown",
   "id": "47576f05-90e1-4c8b-b75b-13ebffe95171",
   "metadata": {},
   "source": [
    "# Basic Data Types\n",
    "\n",
    "Here we have a series of small problems involving various basic data types in Python.  You are required to complete the code where required, and give *brief* explanations of your answers.  Remember that the documentation and explanation is as important as the answer.\n",
    "\n",
    "For each of the following cells, first execute them, and then give a brief explanation of why the answer comes out to be the way it does.  If there is an error during execution of the cell, explain how you fixed it.  **Add a new cell of type Markdown with the explanation** after the corresponding cell.  If you are using plain Python, add suitable comments after each line and explain this in the documentation (clearly you would be better off using Notebooks here)."
   ]
  },
  {
   "cell_type": "markdown",
   "id": "90d271f4",
   "metadata": {},
   "source": [
    "## Numerical types"
   ]
  },
  {
   "cell_type": "code",
   "execution_count": 12,
   "id": "1e2d2e6e",
   "metadata": {},
   "outputs": [
    {
     "name": "stdout",
     "output_type": "stream",
     "text": [
      "2.4\n",
      "<class 'float'>\n"
     ]
    }
   ],
   "source": [
    "print(12 / 5)\n",
    "print(type(12/5))"
   ]
  },
  {
   "cell_type": "markdown",
   "id": "64c71dc5-33db-4760-8aa6-66cd003d5570",
   "metadata": {},
   "source": [
    "## Explanation\n",
    "A single slash to divide 2 integers or floating numbers results in type float"
   ]
  },
  {
   "cell_type": "code",
   "execution_count": 17,
   "id": "1b587eb7",
   "metadata": {},
   "outputs": [
    {
     "name": "stdout",
     "output_type": "stream",
     "text": [
      "2\n",
      "<class 'int'>\n"
     ]
    }
   ],
   "source": [
    "print(12 // 5)\n",
    "print(type(12 // 5))"
   ]
  },
  {
   "cell_type": "markdown",
   "id": "c3b81a59-fe2b-4e22-a695-92b5f5a7f602",
   "metadata": {},
   "source": [
    "## Explanation\n",
    "A double slash gives an approximation(step of) of the dividing integers. The type of the resulting value, depends on the input. If one of any two integers are of float type, the resulting type will also be  float"
   ]
  },
  {
   "cell_type": "code",
   "execution_count": 18,
   "id": "97a6c535",
   "metadata": {},
   "outputs": [
    {
     "name": "stdout",
     "output_type": "stream",
     "text": [
      "<class 'int'>\n",
      "10 10 1.0\n"
     ]
    }
   ],
   "source": [
    "a=b=10\n",
    "print(type(a))\n",
    "print(a,b,a/b)"
   ]
  },
  {
   "cell_type": "markdown",
   "id": "4a889d0d-2e9e-4f47-b78f-b3fa70c6c3d6",
   "metadata": {},
   "source": [
    "## Explanation\n",
    "Two varialbles are assigned interger values and single slash is used to divide them. Thus the resulting value is of type float."
   ]
  },
  {
   "cell_type": "markdown",
   "id": "af329d1c",
   "metadata": {},
   "source": [
    "## Strings and related operations"
   ]
  },
  {
   "cell_type": "code",
   "execution_count": 25,
   "id": "ba913542",
   "metadata": {},
   "outputs": [
    {
     "name": "stdout",
     "output_type": "stream",
     "text": [
      "<class 'str'>\n"
     ]
    }
   ],
   "source": [
    "a = \"Hello \"\n",
    "print(a)"
   ]
  },
  {
   "cell_type": "markdown",
   "id": "53f80593-91e6-456e-b388-9c798ae596c7",
   "metadata": {},
   "source": [
    "## Explanation\n",
    "A varialble is being assigned a random variable and is printed."
   ]
  },
  {
   "cell_type": "code",
   "execution_count": 27,
   "id": "ad0e046b",
   "metadata": {},
   "outputs": [
    {
     "name": "stdout",
     "output_type": "stream",
     "text": [
      "Hello 10\n"
     ]
    }
   ],
   "source": [
    "print(a+str(b))# Output should contain \"Hello 10\" \n"
   ]
  },
  {
   "cell_type": "markdown",
   "id": "8c7f5669-4177-45bb-8acb-be268277bcea",
   "metadata": {},
   "source": [
    "## Explanation\n",
    "Two values of same type can be concatenated using a '+' sign."
   ]
  },
  {
   "cell_type": "code",
   "execution_count": 84,
   "id": "e2793fa4",
   "metadata": {},
   "outputs": [
    {
     "name": "stdout",
     "output_type": "stream",
     "text": [
      "---------------------------------------- 42\n",
      "*-*-*-*-*-*-*-*-*-*-*-*-*-*-*-*-*-*-*-*-\n"
     ]
    }
   ],
   "source": [
    "# Print out a line of 40 '-' signs (to look like one long line)\n",
    "# Then print the number 42 so that it is right justified to the end of \n",
    "# the above line\n",
    "# Then print one more line of length 40, but with the pattern '*-*-*-' \n",
    "\n",
    "print(\"-\"*40,f\"{42:>0}\")\n",
    "print(\"*-\"*20)"
   ]
  },
  {
   "cell_type": "markdown",
   "id": "7f1ab876-1ec1-456a-8c8e-21c4ea62b310",
   "metadata": {},
   "source": [
    "## Explanation\n",
    "Strings can also be repeated by just using '*' sign."
   ]
  },
  {
   "cell_type": "code",
   "execution_count": 29,
   "id": "9b4e1f03",
   "metadata": {},
   "outputs": [
    {
     "name": "stdout",
     "output_type": "stream",
     "text": [
      "The variable 'a' has the value Hello  and 'b' has the value         10\n"
     ]
    }
   ],
   "source": [
    "print(f\"The variable 'a' has the value {a} and 'b' has the value {b:>10}\")"
   ]
  },
  {
   "cell_type": "markdown",
   "id": "eb9e4ce4-92f6-4154-9972-7cf830eae677",
   "metadata": {},
   "source": [
    "## Explanation\n",
    "These kind of strings are called Literal String Interpolation or more commonly as F-strings. It is a much simpler way to use varaibles within the string."
   ]
  },
  {
   "cell_type": "code",
   "execution_count": 30,
   "id": "9d746f81",
   "metadata": {},
   "outputs": [
    {
     "name": "stdout",
     "output_type": "stream",
     "text": [
      "EE2703                      Applied Programming Lab\n",
      "EE2003                        Computer Organization\n",
      "EE5131                            Digital IC Design\n"
     ]
    }
   ],
   "source": [
    "# Create a list of dictionaries where each entry in the list has two keys:\n",
    "# - id: this will be the ID number of a course, for example 'EE2703'\n",
    "# - name: this will be the name, for example 'Applied Programming Lab'\n",
    "# Add 3 entries:\n",
    "# EE2703 -> Applied Programming Lab\n",
    "# EE2003 -> Computer Organization\n",
    "# EE5311 -> Digital IC Design\n",
    "# Then print out the entries in a neatly formatted table where the \n",
    "# ID number is left justified\n",
    "# to 10 spaces and the name is right justified to 40 spaces.  \n",
    "# That is it should look like:\n",
    "\n",
    "# EE2703                     Applied Programming Lab\n",
    "# EE2003                       Computer Organization\n",
    "# EE5131                           Digital IC Design\n",
    "\n",
    "courses=[{\"EE2703\":\"Applied Programming Lab\"},{\"EE2003\":\"Computer Organization\"},{\"EE5131\":\"Digital IC Design\"}]\n",
    "for x in range(len(courses)):\n",
    "    for x, y in courses[x].items():\n",
    "        print(f\"{x:<10}\",f\"{y:>40}\")\n",
    "    \n"
   ]
  },
  {
   "cell_type": "markdown",
   "id": "e39b735c-ea8d-4f43-9549-b5f9d3841418",
   "metadata": {},
   "source": [
    "## Explanation\n",
    "A list of dictionaries was assigned to 'courses'. For loop was used to print out all the elements in the dictionaries. Function items was used to pick each list and left shift and right shift keys in each list."
   ]
  },
  {
   "cell_type": "markdown",
   "id": "959169d6",
   "metadata": {},
   "source": [
    "# Functions for general manipulation"
   ]
  },
  {
   "cell_type": "code",
   "execution_count": 100,
   "id": "fb799573",
   "metadata": {},
   "outputs": [
    {
     "name": "stdin",
     "output_type": "stream",
     "text": [
      "Enter: -20\n"
     ]
    },
    {
     "name": "stdout",
     "output_type": "stream",
     "text": [
      "11101100\n"
     ]
    }
   ],
   "source": [
    "# Write a function with name 'twosc' that will take a single integer \n",
    "# as input, and print out the binary representation of the number \n",
    "# as output.  The function should take one other optional parameter N \n",
    "# which represents the number of bits.  The final result should always \n",
    "# contain N characters as output (either 0 or 1) and should use \n",
    "# two's complement to represent the number if it is negative.\n",
    "# Examples:\n",
    "# twosc(10): 0000000000001010\n",
    "# twosc(-10): 1111111111110110\n",
    "# twosc(-20, 8): 11101100\n",
    "#\n",
    "# Use only functions from the Python standard library to do this.\n",
    "def twosc(x, N=16):\n",
    "    if x>=0:\n",
    "        bin = [int(i) for i in list('{0:0b}'.format(x))]\n",
    "        list_1=list(map(str, bin))\n",
    "        stri=\"\"\n",
    "        res = stri.join(list_1)\n",
    "        final= res.zfill(N)\n",
    "        return final\n",
    "    else:\n",
    "        bin = [int(i) for i in list('{0:0b}'.format(abs(x)))]\n",
    "        n=len(bin)\n",
    "        z=pow(2,n)-abs(x)\n",
    "        nbin=[int(i) for i in list('{0:0b}'.format(z))]\n",
    "        list_1=[]\n",
    "        ones=1\n",
    "        for i in range(N-len(bin)):\n",
    "            list_1.append(ones)\n",
    "        zeroes=0\n",
    "        for i in range(len(bin)-len(nbin)):\n",
    "            list_1.append(zeroes)\n",
    "        for x in nbin : \n",
    "            list_1.append(x)\n",
    "        string=list(map(str, list_1))\n",
    "        stri=\"\"\n",
    "        res = stri.join(string)#concatenating all the elements\n",
    "        return(res)\n",
    "        \n",
    "    pass\n",
    "x=int(input(\"Enter:\"))\n",
    "print(twosc(x,8))"
   ]
  },
  {
   "cell_type": "markdown",
   "id": "b27d1217-1291-407f-ad43-02110ab06ecd",
   "metadata": {},
   "source": [
    "## Explanation\n",
    "To build a fuction that converts decimal to binary, it can be divided into two, if the entered integer is positive or not. To get binary of a positive decimal, we used format code '{0.b}'. It will be list type. To use zfill() to get zeroes before the binary number, it should be in string format. So, we used join() fucntion for a defined stri. Now, for negative integers we know that 2'complemet of its absolute, which is aslo equal to $2^{n}$ - N (n=length of binary form of absolute of given integer, N= absolute of given integer). Same set of funtions were used to get the binary of negative integers."
   ]
  },
  {
   "cell_type": "markdown",
   "id": "d9845f63",
   "metadata": {},
   "source": [
    "# List comprehensions and decorators"
   ]
  },
  {
   "cell_type": "code",
   "execution_count": 7,
   "id": "9f573a70-d7f0-4496-926f-34b7cff5492f",
   "metadata": {},
   "outputs": [
    {
     "data": {
      "text/plain": [
       "[0, 4, 16, 36, 64]"
      ]
     },
     "execution_count": 7,
     "metadata": {},
     "output_type": "execute_result"
    }
   ],
   "source": [
    "# Explain the output you see below\n",
    "[x*x for x in range(10) if x%2 == 0]"
   ]
  },
  {
   "cell_type": "markdown",
   "id": "443b5118-d216-4f00-80a7-4d4ef4705e87",
   "metadata": {},
   "source": [
    "## Explanation\n",
    "The code checks for all integers from 0 to 9 and if it's an even number, its square gets appended to the list"
   ]
  },
  {
   "cell_type": "code",
   "execution_count": 36,
   "id": "d34ddb81-5caf-40a7-ac1f-43ce08d64220",
   "metadata": {},
   "outputs": [
    {
     "data": {
      "text/plain": [
       "[1, 2, 3, 4, 5, 6, 7, 8, 9]"
      ]
     },
     "execution_count": 36,
     "metadata": {},
     "output_type": "execute_result"
    }
   ],
   "source": [
    "# Explain the output you see below\n",
    "matrix = [[1,2,3], [4,5,6], [7,8,9]]\n",
    "[v for row in matrix for v in row]"
   ]
  },
  {
   "cell_type": "markdown",
   "id": "2e3188ac-a426-42f8-a8ce-65449f66034a",
   "metadata": {},
   "source": [
    "## Explanation\n",
    "Here, matrix is a 2-D array, it goes through every element and concatenates to a list."
   ]
  },
  {
   "cell_type": "code",
   "execution_count": 39,
   "id": "e7349601-a068-4d91-bc0f-bcc755c4b215",
   "metadata": {},
   "outputs": [
    {
     "name": "stdout",
     "output_type": "stream",
     "text": [
      "[2, 3, 5, 7, 11, 13, 17, 19, 23, 29, 31, 37, 41, 43, 47, 53, 59, 61, 67, 71, 73, 79, 83, 89, 97]\n"
     ]
    }
   ],
   "source": [
    "# Define a function `is_prime(x)` that will return True if a number \n",
    "# is prime, or False otherwise.\n",
    "# Use it to write a one-line statement that will print all \n",
    "# prime numbers between 1 and 100\n",
    "\n",
    "def is_prime(x):\n",
    "    \n",
    "    for i in range(2,int(x//2)+1):\n",
    "        if x%i==0:\n",
    "            return False\n",
    "        \n",
    "    return True\n",
    "  \n",
    "\n",
    "pass    \n",
    "print([x for x in range(2,100) if is_prime(x)==True])"
   ]
  },
  {
   "cell_type": "markdown",
   "id": "cf10e10c-f9a9-42f8-babb-35505a219c3d",
   "metadata": {},
   "source": [
    "## Explanation\n",
    "To check if an integer is prime or not, a for loop is run. And for the entered range all prime numbers are printed"
   ]
  },
  {
   "cell_type": "code",
   "execution_count": 41,
   "id": "3dd1087b-f384-41a2-88d8-6788336d2291",
   "metadata": {},
   "outputs": [
    {
     "name": "stdout",
     "output_type": "stream",
     "text": [
      "Hello happy flappy world\n"
     ]
    }
   ],
   "source": [
    "# Explain the output below\n",
    "def f1(x):\n",
    "    return \"happy \" + x\n",
    "def f2(f):\n",
    "    def wrapper(*args, **kwargs):\n",
    "        return \"Hello \" + f(*args, **kwargs) + \" world\"\n",
    "    return wrapper\n",
    "f3 = f2(f1)\n",
    "print(f3(\"flappy\"))"
   ]
  },
  {
   "cell_type": "markdown",
   "id": "3449d923-c863-4746-b543-bd8881d00d42",
   "metadata": {},
   "source": [
    "## Explanation\n",
    "Python wrappers are used. Here, f3 is passed as an argument, and f2 is wrapped around f1. Finally f3 is called and it gives \"Hello happy flappy world\".\n",
    "It's helps modifying the behavior of functions without changing its original behaviour."
   ]
  },
  {
   "cell_type": "code",
   "execution_count": 43,
   "id": "ede870a7-6564-4930-9ff1-818f075c3e43",
   "metadata": {},
   "outputs": [
    {
     "name": "stdout",
     "output_type": "stream",
     "text": [
      "<class 'str'>\n"
     ]
    }
   ],
   "source": [
    "# Explain the output below\n",
    "@f2\n",
    "def f4(x):\n",
    "    return \"nappy \" + x\n",
    "\n",
    "print((f4(\"flappy\"))"
   ]
  },
  {
   "cell_type": "markdown",
   "id": "edfc5e3e-02b1-4258-a9f7-32254bdee3cc",
   "metadata": {},
   "source": [
    "## Explanation\n",
    "Here, f2 wrapps around f4 and prints the string. It generates \"nappy flappy\" passed into function f2, that generated the string, inside wrapper function, \"Hello nappy flappy world\"."
   ]
  },
  {
   "cell_type": "markdown",
   "id": "de144cc1-a06a-4e96-8017-7887296dddc0",
   "metadata": {
    "tags": []
   },
   "source": [
    "# File IO"
   ]
  },
  {
   "cell_type": "code",
   "execution_count": 74,
   "id": "09e62f52-fec6-4026-a4d8-ca4b87b19732",
   "metadata": {},
   "outputs": [],
   "source": [
    "# Write a function to generate prime numbers from 1 to N (input)\n",
    "# and write them to a file (second argument).  You can reuse the prime\n",
    "# detection function written earlier.\n",
    "def write_primes(N, filename):   \n",
    "    file = open(filename,'w')\n",
    "    for i in range(2,N+1):\n",
    "        if is_prime(i):\n",
    "            file.write(str(i)+ \" \")\n",
    "            \n",
    "    file.close()\n",
    "    \n",
    "    return\n",
    "write_primes(100, \"prime.txt\")\n",
    "    \n"
   ]
  },
  {
   "cell_type": "markdown",
   "id": "5a7ded2d-3bc2-41ee-81c8-cdd4975f1cea",
   "metadata": {},
   "source": [
    "## Explanation\n",
    "It opens a file by the file name prime, and saves the list of prime numbers in the range(1,N)."
   ]
  },
  {
   "cell_type": "markdown",
   "id": "9b2de5cb-13c3-4804-9576-e7bb6fd3a371",
   "metadata": {},
   "source": [
    "# Exceptions"
   ]
  },
  {
   "cell_type": "code",
   "execution_count": 60,
   "id": "eec5626e-6e92-45bf-b307-2459de0f44e1",
   "metadata": {},
   "outputs": [
    {
     "name": "stdin",
     "output_type": "stream",
     "text": [
      "Enter a number:  04\n"
     ]
    },
    {
     "name": "stdout",
     "output_type": "stream",
     "text": [
      "It is not prime\n"
     ]
    }
   ],
   "source": [
    "# Write a function that takes in a number as input, and prints out \n",
    "# whether it is a prime or not.  If the input is not an integer,\n",
    "# print an appropriate error message.  Use exceptions to detect problems.\n",
    "def check_prime(x):\n",
    "    \n",
    "    try:\n",
    "        val = int(x)\n",
    "        if val<0:\n",
    "            print(\"You have not entered a positive integer\")\n",
    "        elif is_prime(val):\n",
    "            print(\"Entered number is a prime number\")\n",
    "        else:\n",
    "            print(\"Entered number is not a prime number\")\n",
    "            \n",
    "    except ValueError:\n",
    "        print(\"You have not entered an integer\")\n",
    "    \n",
    "        \n",
    "    \n",
    "    pass\n",
    "x = input('Enter a number: ')\n",
    "check_prime(x)\n"
   ]
  },
  {
   "cell_type": "markdown",
   "id": "2257b05d-6e31-46c2-8445-001e4decf53e",
   "metadata": {},
   "source": [
    "## Explanation\n",
    "Here, try and exception handeling method is used to find if an entered number is a prime or not. It also checks if it's a positive integer, decimal and displays appropriate message. "
   ]
  }
 ],
 "metadata": {
  "authors": [
   {
    "name": "Varsha S P, EE21B154 <ee21b154@smail.iitm.ac.in>"
   }
  ],
  "kernelspec": {
   "display_name": "Python 3 (ipykernel)",
   "language": "python",
   "name": "python3"
  },
  "language_info": {
   "codemirror_mode": {
    "name": "ipython",
    "version": 3
   },
   "file_extension": ".py",
   "mimetype": "text/x-python",
   "name": "python",
   "nbconvert_exporter": "python",
   "pygments_lexer": "ipython3",
   "version": "3.9.2"
  },
  "title": "EE2703 - Week 1",
  "toc-autonumbering": true,
  "vscode": {
   "interpreter": {
    "hash": "b0fa6594d8f4cbf19f97940f81e996739fb7646882a419484c72d19e05852a7e"
   }
  }
 },
 "nbformat": 4,
 "nbformat_minor": 5
}
